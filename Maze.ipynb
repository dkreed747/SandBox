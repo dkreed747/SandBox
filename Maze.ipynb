{
  "nbformat": 4,
  "nbformat_minor": 0,
  "metadata": {
    "colab": {
      "name": "Maze.ipynb",
      "provenance": [],
      "collapsed_sections": []
    },
    "kernelspec": {
      "name": "python3",
      "display_name": "Python 3"
    }
  },
  "cells": [
    {
      "cell_type": "code",
      "metadata": {
        "id": "5pm8VM0OWnV6"
      },
      "source": [
        "# CMPSC_132 - Maze Project\n",
        "# Devon Reed - 11/25/2019\n",
        "\n",
        "import random\n",
        "import matplotlib.pyplot as plt\n",
        "import matplotlib.patches as pat"
      ],
      "execution_count": null,
      "outputs": []
    },
    {
      "cell_type": "code",
      "metadata": {
        "id": "8MGrXCHDoQLL"
      },
      "source": [
        "class Stack: # Stack object\n",
        "  def __init__(self):\n",
        "    self.items = []\n",
        "\n",
        "  def push(self, item):\n",
        "    self.items.append(item)\n",
        "  \n",
        "  def pop(self):\n",
        "    return self.items.pop()\n",
        "  \n",
        "  def height(self):\n",
        "    return len(self.items)"
      ],
      "execution_count": null,
      "outputs": []
    },
    {
      "cell_type": "code",
      "metadata": {
        "id": "Q8qLy1AycmKt"
      },
      "source": [
        "class Cell: # object for indivdual cell\n",
        "  cell_pairs = {'N': 'S', 'S': 'N', 'E': 'W', 'W': 'E'} # pairs of cells that share walls\n",
        "\n",
        "  def __init__(self, x, y):\n",
        "    self.x, self.y = x, y # cell position\n",
        "    self.walls = {'N': True, 'S': True, 'E': True, 'W': True} # initially cell has all four walls\n",
        "    self.visited = False # has the cell been visited in the search for the solution\n",
        "\n",
        "  def remove_wall(self, adjacent, direction):\n",
        "    self.walls[direction] = False # removes wall in direction\n",
        "    adjacent.walls[Cell.cell_pairs[direction]] = False # cell_pairs reverses dirction for shared wall\n",
        "\n",
        "  def all_wall(self): # for generating a maze\n",
        "    return all(self.walls.values()) # returns true if all walls are present\n",
        "\n",
        "  def possible_directions(self): # for solving the maze returns list of directions that are reachable (no wall)\n",
        "    pds = []\n",
        "    for direction in self.walls:\n",
        "      if not self.walls[direction]:\n",
        "        pds.append(direction)\n",
        "    return pds"
      ],
      "execution_count": null,
      "outputs": []
    },
    {
      "cell_type": "code",
      "metadata": {
        "id": "ziDHAOWugN-u"
      },
      "source": [
        "class Maze: # object for a collection of cells\n",
        "  def __init__(self, n):\n",
        "    self.size = n # size of maze in nxn\n",
        "    self.cell_grid = [[Cell(x, y) for y in range(n)] for x in range(n)] # create n x n grid of walled cells\n",
        "  \n",
        "  def get_cell(self, x, y): # returns cell object at xy location in grid\n",
        "    return self.cell_grid[x][y]\n",
        "\n",
        "  def get_possible_adjs(self, cell): # building maze only checks for cells with full walls\n",
        "    steps = [('N', (0, 1)), ('S', (0, -1)), ('E', (1, 0)), ('W', (-1, 0))]\n",
        "    unvisited_adjacents = []\n",
        "    for direction, (dx, dy) in steps:\n",
        "      nx, ny = cell.x + dx, cell.y + dy\n",
        "      if (0 <= nx < self.size) and (0 <= ny < self.size):\n",
        "        adj = maze.get_cell(nx, ny)\n",
        "        if adj.all_wall():\n",
        "          unvisited_adjacents.append((direction, adj))\n",
        "    return unvisited_adjacents\n",
        "\n",
        "  def next_cells(self, cell, pos_dirs): # solving maze checks for cells with walls and visited bool\n",
        "    steps = [('N', (0, 1)), ('S', (0, -1)), ('E', (1, 0)), ('W', (-1, 0))]\n",
        "    next_moves = []\n",
        "    for direction, (dx, dy) in steps:\n",
        "      nx, ny = cell.x + dx, cell.y + dy\n",
        "      if (0 <= nx < self.size) and (0 <= ny < self.size):\n",
        "        adj = maze.get_cell(nx, ny)\n",
        "        if (not adj.visited) and (direction in pos_dirs): # only difference\n",
        "          next_moves.append((adj, direction))\n",
        "    return next_moves\n",
        "\n",
        "  def gen_maze(self): # generate maze by removing walls with a stack until all cells have been visited\n",
        "    total_cells = self.size ** 2\n",
        "    stack_o_cells = Stack()\n",
        "    cells_visited = 1\n",
        "    current_cell = self.get_cell(0, 0)\n",
        "\n",
        "    while cells_visited < total_cells:\n",
        "      adjacents = self.get_possible_adjs(current_cell)\n",
        "      if not adjacents:\n",
        "        current_cell = stack_o_cells.pop() # if no suitable adjacents pop the next stack and go back to start of loop\n",
        "        continue\n",
        "      direction, next_cell = random.choice(adjacents) # randomly choose next cell from adjacents\n",
        "      current_cell.remove_wall(next_cell, direction)\n",
        "      stack_o_cells.push(current_cell)\n",
        "      current_cell = next_cell\n",
        "      cells_visited += 1\n",
        "    \n",
        "  def graph_solve(self, x_finish, y_finish, x_start=0, y_start=0, plot_solution=False): # function that graphs the maze with and without a solution\n",
        "    steps_inv = [('S', (0, 1)), ('N', (0, -1)), ('W', (1, 0)), ('E', (-1, 0))] # for ploting a maze from end to start\n",
        "    current_cell = self.get_cell(x_start, y_start)\n",
        "    path_stack = Stack()\n",
        "    directions = Stack()\n",
        "    directions.push('N') # initializing stack to avoid poping from stack len() = 0\n",
        "    path_stack.push(current_cell) # initialize path stack with the starting cell\n",
        "\n",
        "    fig, ax = plt.subplots(1, figsize=(12, 12)) # plotting maze with start and end patches\n",
        "    plt.axis([0, self.size, 0, self.size])\n",
        "    plt.gca().set_aspect('equal', adjustable='box')\n",
        "    for y in range(self.size):\n",
        "      for x in range(self.size):\n",
        "        if self.cell_grid[x][y].walls['E']:\n",
        "          plt.plot((x+1, x+1), (y, y+1), c='black', lw=2)\n",
        "        if self.cell_grid[x][y].walls['N']:\n",
        "          plt.plot((x, x+1), (y+1, y+1), c='black', lw=2)\n",
        "    plt.plot((0, 0), (0, self.size), c='black', lw=2)\n",
        "    plt.plot((0, self.size), (0, 0), c='black', lw=2)\n",
        "    start = pat.Rectangle((x_start + 0.2, y_start + 0.2), .6, .6, color='g')\n",
        "    finish = pat.Rectangle((x_finish - .8, y_finish - .8), .6, .6, color='r')\n",
        "    ax.add_patch(start)\n",
        "    ax.add_patch(finish)\n",
        "\n",
        "    if plot_solution: # solve maze with 2 stacks one for a path and the other for directions to plot later\n",
        "      while (path_stack.height != 0) or (directions.height !=0):\n",
        "        current_cell = path_stack.pop()\n",
        "        x = directions.pop()\n",
        "        if (current_cell.x == x_finish -1 ) and (current_cell.y == y_finish - 1):\n",
        "          break\n",
        "        current_cell.visited = True\n",
        "        possible_directions = current_cell.possible_directions()\n",
        "        next_moves = self.next_cells(current_cell, possible_directions)\n",
        "        if len(next_moves) != 0:\n",
        "          next_cell, direction = random.choice(next_moves)\n",
        "          directions.push(direction)\n",
        "          directions.push(direction)\n",
        "          path_stack.push(current_cell)\n",
        "          path_stack.push(next_cell)\n",
        "          continue\n",
        "      \n",
        "      current_x, current_y = x_finish - .5, y_finish - .5 # plot solution in reverse using a stack of directions\n",
        "      for i in range(directions.height()):\n",
        "        current_direction = directions.pop()\n",
        "        for direction, (dx, dy) in steps_inv:\n",
        "          if direction == current_direction:\n",
        "            next_x, next_y = current_x + dx, current_y + dy\n",
        "        plt.plot((current_x, next_x), (current_y, next_y), c='blue', lw=2)\n",
        "        current_x, current_y = next_x, next_y\n",
        "    plt.show()"
      ],
      "execution_count": null,
      "outputs": []
    },
    {
      "cell_type": "code",
      "metadata": {
        "id": "vHWbn4aciAVa",
        "outputId": "7b2a82cb-a916-449d-e5bf-4612a92e8325",
        "colab": {
          "base_uri": "https://localhost:8080/",
          "height": 704
        }
      },
      "source": [
        "maze = Maze(30)\n",
        "maze.gen_maze()\n",
        "maze.graph_solve(30, 30, plot_solution=True)"
      ],
      "execution_count": null,
      "outputs": [
        {
          "output_type": "display_data",
          "data": {
            "image/png": "[encoded data removed]",
            "text/plain": [
              "<Figure size 864x864 with 1 Axes>"
            ]
          },
          "metadata": {
            "tags": []
          }
        }
      ]
    }
  ]
}